{
  "metadata": {
    "kernelspec": {
      "name": "python",
      "display_name": "Python (Pyodide)",
      "language": "python"
    },
    "language_info": {
      "codemirror_mode": {
        "name": "python",
        "version": 3
      },
      "file_extension": ".py",
      "mimetype": "text/x-python",
      "name": "python",
      "nbconvert_exporter": "python",
      "pygments_lexer": "ipython3",
      "version": "3.8"
    }
  },
  "nbformat_minor": 4,
  "nbformat": 4,
  "cells": [
    {
      "cell_type": "markdown",
      "source": "### Pandas Basics",
      "metadata": {}
    },
    {
      "cell_type": "code",
      "source": "import pandas as pd\nimport numpy as np\nimport warnings\n\nwarnings.filterwarnings(\"ignore\")",
      "metadata": {
        "trusted": true
      },
      "outputs": [
        {
          "name": "stderr",
          "text": "<ipython-input-1-93dfbe9bdbbc>:1: DeprecationWarning: \nPyarrow will become a required dependency of pandas in the next major release of pandas (pandas 3.0),\n(to allow more performant data types, such as the Arrow string type, and better interoperability with other libraries)\nbut was not found to be installed on your system.\nIf this would cause problems for you,\nplease provide us feedback at https://github.com/pandas-dev/pandas/issues/54466\n        \n  import pandas as pd\n",
          "output_type": "stream"
        }
      ],
      "execution_count": 1
    },
    {
      "cell_type": "code",
      "source": "ps = pd.Series([\"a\", 2, np.pi, 36])\nprint(ps)",
      "metadata": {
        "trusted": true
      },
      "outputs": [
        {
          "name": "stdout",
          "text": "0           a\n1           2\n2    3.141593\n3          36\ndtype: object\n",
          "output_type": "stream"
        }
      ],
      "execution_count": 2
    },
    {
      "cell_type": "code",
      "source": "# values only\nprint(ps.values)",
      "metadata": {
        "trusted": true
      },
      "outputs": [
        {
          "name": "stdout",
          "text": "['a' 2 3.141592653589793 36]\n",
          "output_type": "stream"
        }
      ],
      "execution_count": 3
    },
    {
      "cell_type": "code",
      "source": "# indices only\nprint(ps.index)",
      "metadata": {
        "trusted": true
      },
      "outputs": [
        {
          "name": "stdout",
          "text": "RangeIndex(start=0, stop=4, step=1)\n",
          "output_type": "stream"
        }
      ],
      "execution_count": 4
    },
    {
      "cell_type": "code",
      "source": "print(ps[1:3])",
      "metadata": {
        "trusted": true
      },
      "outputs": [
        {
          "name": "stdout",
          "text": "1           2\n2    3.141593\ndtype: object\n",
          "output_type": "stream"
        }
      ],
      "execution_count": 5
    },
    {
      "cell_type": "code",
      "source": "ps = pd.Series(\n    data=[\n        \"mozzarella caprese\",\n        \"Wiener Schnitzel\",\n        \"Schwartwalder Kirschtorte\",\n        \"lemonade\",\n        \"whiskey\",\n    ],\n    index=[\"appetizer\", \"main course\", \"dessert\", \"beverage\", \"alcohol\"],\n)\n\nps",
      "metadata": {
        "trusted": true
      },
      "outputs": [
        {
          "execution_count": 7,
          "output_type": "execute_result",
          "data": {
            "text/plain": "appetizer             mozzarella caprese\nmain course             Wiener Schnitzel\ndessert        Schwartwalder Kirschtorte\nbeverage                        lemonade\nalcohol                          whiskey\ndtype: object"
          },
          "metadata": {}
        }
      ],
      "execution_count": 7
    },
    {
      "cell_type": "code",
      "source": "ps.loc[[\"appetizer\", \"dessert\", \"beverage\"]]",
      "metadata": {
        "trusted": true
      },
      "outputs": [
        {
          "execution_count": 8,
          "output_type": "execute_result",
          "data": {
            "text/plain": "appetizer           mozzarella caprese\ndessert      Schwartwalder Kirschtorte\nbeverage                      lemonade\ndtype: object"
          },
          "metadata": {}
        }
      ],
      "execution_count": 8
    },
    {
      "cell_type": "code",
      "source": "ps.iloc[1:3]",
      "metadata": {
        "trusted": true
      },
      "outputs": [
        {
          "execution_count": 9,
          "output_type": "execute_result",
          "data": {
            "text/plain": "main course             Wiener Schnitzel\ndessert        Schwartwalder Kirschtorte\ndtype: object"
          },
          "metadata": {}
        }
      ],
      "execution_count": 9
    },
    {
      "cell_type": "code",
      "source": "dc_city_pop = {\n    'Tokyo': 37339804,\n    'Delhi': 31181376,\n    'Shanghai': 27795702,\n    'Sao Paulo': 22237472,\n    'Mexico City': 21918936,\n    'Dhaka': 21741090,\n    'Cairo': 21322750,\n    'Beijing': 20896820,\n    'Mumbai': 20667656,\n    'Osaka': 19110616\n}",
      "metadata": {
        "trusted": true
      },
      "outputs": [],
      "execution_count": 10
    },
    {
      "cell_type": "code",
      "source": "ps_city_pop = pd.Series(dc_city_pop)\nps_city_pop",
      "metadata": {
        "trusted": true
      },
      "outputs": [
        {
          "execution_count": 11,
          "output_type": "execute_result",
          "data": {
            "text/plain": "Tokyo          37339804\nDelhi          31181376\nShanghai       27795702\nSao Paulo      22237472\nMexico City    21918936\nDhaka          21741090\nCairo          21322750\nBeijing        20896820\nMumbai         20667656\nOsaka          19110616\ndtype: int64"
          },
          "metadata": {}
        }
      ],
      "execution_count": 11
    },
    {
      "cell_type": "code",
      "source": "print(ps_city_pop.index)\nprint(ps_city_pop.values)",
      "metadata": {
        "trusted": true
      },
      "outputs": [
        {
          "name": "stdout",
          "text": "Index(['Tokyo', 'Delhi', 'Shanghai', 'Sao Paulo', 'Mexico City', 'Dhaka',\n       'Cairo', 'Beijing', 'Mumbai', 'Osaka'],\n      dtype='object')\n[37339804 31181376 27795702 22237472 21918936 21741090 21322750 20896820\n 20667656 19110616]\n",
          "output_type": "stream"
        }
      ],
      "execution_count": 12
    },
    {
      "cell_type": "code",
      "source": "dc_city_countries = {\n    \"Tokyo\": \"Japan\",\n    \"Delhi\": \"India\",\n    \"Shanghai\": \"China\",\n    \"Sao Paulo\": \"Brazil\",\n    \"Mexico City\": \"Mexico\",\n    \"Dhaka\": \"Bangladesh\",\n    \"Cairo\": \"Egypt\",\n    \"Beijing\": \"China\",\n    \"Mumbai\": \"India\",\n    \"Osaka\": \"Japan\",\n}",
      "metadata": {
        "trusted": true
      },
      "outputs": [],
      "execution_count": 13
    },
    {
      "cell_type": "code",
      "source": "ps_city_countries = pd.Series(dc_city_countries)\nps_city_countries",
      "metadata": {
        "trusted": true
      },
      "outputs": [
        {
          "execution_count": 15,
          "output_type": "execute_result",
          "data": {
            "text/plain": "Tokyo               Japan\nDelhi               India\nShanghai            China\nSao Paulo          Brazil\nMexico City        Mexico\nDhaka          Bangladesh\nCairo               Egypt\nBeijing             China\nMumbai              India\nOsaka               Japan\ndtype: object"
          },
          "metadata": {}
        }
      ],
      "execution_count": 15
    },
    {
      "cell_type": "code",
      "source": "print(ps_city_countries.index)\nprint(ps_city_countries.values)",
      "metadata": {
        "trusted": true
      },
      "outputs": [
        {
          "name": "stdout",
          "text": "Index(['Tokyo', 'Delhi', 'Shanghai', 'Sao Paulo', 'Mexico City', 'Dhaka',\n       'Cairo', 'Beijing', 'Mumbai', 'Osaka'],\n      dtype='object')\n['Japan' 'India' 'China' 'Brazil' 'Mexico' 'Bangladesh' 'Egypt' 'China'\n 'India' 'Japan']\n",
          "output_type": "stream"
        }
      ],
      "execution_count": 16
    },
    {
      "cell_type": "code",
      "source": "df_cities = pd.concat([ps_city_pop, ps_city_countries], axis=1)\ndf_cities",
      "metadata": {
        "trusted": true
      },
      "outputs": [
        {
          "execution_count": 17,
          "output_type": "execute_result",
          "data": {
            "text/plain": "                    0           1\nTokyo        37339804       Japan\nDelhi        31181376       India\nShanghai     27795702       China\nSao Paulo    22237472      Brazil\nMexico City  21918936      Mexico\nDhaka        21741090  Bangladesh\nCairo        21322750       Egypt\nBeijing      20896820       China\nMumbai       20667656       India\nOsaka        19110616       Japan",
            "text/html": "<div>\n<style scoped>\n    .dataframe tbody tr th:only-of-type {\n        vertical-align: middle;\n    }\n\n    .dataframe tbody tr th {\n        vertical-align: top;\n    }\n\n    .dataframe thead th {\n        text-align: right;\n    }\n</style>\n<table border=\"1\" class=\"dataframe\">\n  <thead>\n    <tr style=\"text-align: right;\">\n      <th></th>\n      <th>0</th>\n      <th>1</th>\n    </tr>\n  </thead>\n  <tbody>\n    <tr>\n      <th>Tokyo</th>\n      <td>37339804</td>\n      <td>Japan</td>\n    </tr>\n    <tr>\n      <th>Delhi</th>\n      <td>31181376</td>\n      <td>India</td>\n    </tr>\n    <tr>\n      <th>Shanghai</th>\n      <td>27795702</td>\n      <td>China</td>\n    </tr>\n    <tr>\n      <th>Sao Paulo</th>\n      <td>22237472</td>\n      <td>Brazil</td>\n    </tr>\n    <tr>\n      <th>Mexico City</th>\n      <td>21918936</td>\n      <td>Mexico</td>\n    </tr>\n    <tr>\n      <th>Dhaka</th>\n      <td>21741090</td>\n      <td>Bangladesh</td>\n    </tr>\n    <tr>\n      <th>Cairo</th>\n      <td>21322750</td>\n      <td>Egypt</td>\n    </tr>\n    <tr>\n      <th>Beijing</th>\n      <td>20896820</td>\n      <td>China</td>\n    </tr>\n    <tr>\n      <th>Mumbai</th>\n      <td>20667656</td>\n      <td>India</td>\n    </tr>\n    <tr>\n      <th>Osaka</th>\n      <td>19110616</td>\n      <td>Japan</td>\n    </tr>\n  </tbody>\n</table>\n</div>"
          },
          "metadata": {}
        }
      ],
      "execution_count": 17
    },
    {
      "cell_type": "code",
      "source": "df_cities.columns = ['population', 'country']\ndf_cities",
      "metadata": {
        "trusted": true
      },
      "outputs": [
        {
          "execution_count": 18,
          "output_type": "execute_result",
          "data": {
            "text/plain": "             population     country\nTokyo          37339804       Japan\nDelhi          31181376       India\nShanghai       27795702       China\nSao Paulo      22237472      Brazil\nMexico City    21918936      Mexico\nDhaka          21741090  Bangladesh\nCairo          21322750       Egypt\nBeijing        20896820       China\nMumbai         20667656       India\nOsaka          19110616       Japan",
            "text/html": "<div>\n<style scoped>\n    .dataframe tbody tr th:only-of-type {\n        vertical-align: middle;\n    }\n\n    .dataframe tbody tr th {\n        vertical-align: top;\n    }\n\n    .dataframe thead th {\n        text-align: right;\n    }\n</style>\n<table border=\"1\" class=\"dataframe\">\n  <thead>\n    <tr style=\"text-align: right;\">\n      <th></th>\n      <th>population</th>\n      <th>country</th>\n    </tr>\n  </thead>\n  <tbody>\n    <tr>\n      <th>Tokyo</th>\n      <td>37339804</td>\n      <td>Japan</td>\n    </tr>\n    <tr>\n      <th>Delhi</th>\n      <td>31181376</td>\n      <td>India</td>\n    </tr>\n    <tr>\n      <th>Shanghai</th>\n      <td>27795702</td>\n      <td>China</td>\n    </tr>\n    <tr>\n      <th>Sao Paulo</th>\n      <td>22237472</td>\n      <td>Brazil</td>\n    </tr>\n    <tr>\n      <th>Mexico City</th>\n      <td>21918936</td>\n      <td>Mexico</td>\n    </tr>\n    <tr>\n      <th>Dhaka</th>\n      <td>21741090</td>\n      <td>Bangladesh</td>\n    </tr>\n    <tr>\n      <th>Cairo</th>\n      <td>21322750</td>\n      <td>Egypt</td>\n    </tr>\n    <tr>\n      <th>Beijing</th>\n      <td>20896820</td>\n      <td>China</td>\n    </tr>\n    <tr>\n      <th>Mumbai</th>\n      <td>20667656</td>\n      <td>India</td>\n    </tr>\n    <tr>\n      <th>Osaka</th>\n      <td>19110616</td>\n      <td>Japan</td>\n    </tr>\n  </tbody>\n</table>\n</div>"
          },
          "metadata": {}
        }
      ],
      "execution_count": 18
    },
    {
      "cell_type": "code",
      "source": "# some rows\ndf_cities.iloc[2:5]",
      "metadata": {
        "trusted": true
      },
      "outputs": [
        {
          "execution_count": 19,
          "output_type": "execute_result",
          "data": {
            "text/plain": "             population country\nShanghai       27795702   China\nSao Paulo      22237472  Brazil\nMexico City    21918936  Mexico",
            "text/html": "<div>\n<style scoped>\n    .dataframe tbody tr th:only-of-type {\n        vertical-align: middle;\n    }\n\n    .dataframe tbody tr th {\n        vertical-align: top;\n    }\n\n    .dataframe thead th {\n        text-align: right;\n    }\n</style>\n<table border=\"1\" class=\"dataframe\">\n  <thead>\n    <tr style=\"text-align: right;\">\n      <th></th>\n      <th>population</th>\n      <th>country</th>\n    </tr>\n  </thead>\n  <tbody>\n    <tr>\n      <th>Shanghai</th>\n      <td>27795702</td>\n      <td>China</td>\n    </tr>\n    <tr>\n      <th>Sao Paulo</th>\n      <td>22237472</td>\n      <td>Brazil</td>\n    </tr>\n    <tr>\n      <th>Mexico City</th>\n      <td>21918936</td>\n      <td>Mexico</td>\n    </tr>\n  </tbody>\n</table>\n</div>"
          },
          "metadata": {}
        }
      ],
      "execution_count": 19
    },
    {
      "cell_type": "code",
      "source": "# some rows and some columns\ndf_cities.iloc[2:5, 1]",
      "metadata": {
        "trusted": true
      },
      "outputs": [
        {
          "execution_count": 20,
          "output_type": "execute_result",
          "data": {
            "text/plain": "Shanghai        China\nSao Paulo      Brazil\nMexico City    Mexico\nName: country, dtype: object"
          },
          "metadata": {}
        }
      ],
      "execution_count": 20
    },
    {
      "cell_type": "code",
      "source": "# list of cities (note the double squared brackets)\ndf_cities.loc[[\"Shanghai\", \"Dhaka\", \"Osaka\"]]",
      "metadata": {
        "trusted": true
      },
      "outputs": [
        {
          "execution_count": 21,
          "output_type": "execute_result",
          "data": {
            "text/plain": "          population     country\nShanghai    27795702       China\nDhaka       21741090  Bangladesh\nOsaka       19110616       Japan",
            "text/html": "<div>\n<style scoped>\n    .dataframe tbody tr th:only-of-type {\n        vertical-align: middle;\n    }\n\n    .dataframe tbody tr th {\n        vertical-align: top;\n    }\n\n    .dataframe thead th {\n        text-align: right;\n    }\n</style>\n<table border=\"1\" class=\"dataframe\">\n  <thead>\n    <tr style=\"text-align: right;\">\n      <th></th>\n      <th>population</th>\n      <th>country</th>\n    </tr>\n  </thead>\n  <tbody>\n    <tr>\n      <th>Shanghai</th>\n      <td>27795702</td>\n      <td>China</td>\n    </tr>\n    <tr>\n      <th>Dhaka</th>\n      <td>21741090</td>\n      <td>Bangladesh</td>\n    </tr>\n    <tr>\n      <th>Osaka</th>\n      <td>19110616</td>\n      <td>Japan</td>\n    </tr>\n  </tbody>\n</table>\n</div>"
          },
          "metadata": {}
        }
      ],
      "execution_count": 21
    },
    {
      "cell_type": "code",
      "source": "# list of cities + a column\ndf_cities.loc[[\"Shanghai\", \"Dhaka\", \"Osaka\"], \"country\"]",
      "metadata": {
        "trusted": true
      },
      "outputs": [
        {
          "execution_count": 22,
          "output_type": "execute_result",
          "data": {
            "text/plain": "Shanghai         China\nDhaka       Bangladesh\nOsaka            Japan\nName: country, dtype: object"
          },
          "metadata": {}
        }
      ],
      "execution_count": 22
    },
    {
      "cell_type": "code",
      "source": "# a range of cities from the index\ndf_cities.loc[\"Tokyo\":\"Sao Paulo\"]",
      "metadata": {
        "trusted": true
      },
      "outputs": [
        {
          "execution_count": 23,
          "output_type": "execute_result",
          "data": {
            "text/plain": "           population country\nTokyo        37339804   Japan\nDelhi        31181376   India\nShanghai     27795702   China\nSao Paulo    22237472  Brazil",
            "text/html": "<div>\n<style scoped>\n    .dataframe tbody tr th:only-of-type {\n        vertical-align: middle;\n    }\n\n    .dataframe tbody tr th {\n        vertical-align: top;\n    }\n\n    .dataframe thead th {\n        text-align: right;\n    }\n</style>\n<table border=\"1\" class=\"dataframe\">\n  <thead>\n    <tr style=\"text-align: right;\">\n      <th></th>\n      <th>population</th>\n      <th>country</th>\n    </tr>\n  </thead>\n  <tbody>\n    <tr>\n      <th>Tokyo</th>\n      <td>37339804</td>\n      <td>Japan</td>\n    </tr>\n    <tr>\n      <th>Delhi</th>\n      <td>31181376</td>\n      <td>India</td>\n    </tr>\n    <tr>\n      <th>Shanghai</th>\n      <td>27795702</td>\n      <td>China</td>\n    </tr>\n    <tr>\n      <th>Sao Paulo</th>\n      <td>22237472</td>\n      <td>Brazil</td>\n    </tr>\n  </tbody>\n</table>\n</div>"
          },
          "metadata": {}
        }
      ],
      "execution_count": 23
    }
  ]
}